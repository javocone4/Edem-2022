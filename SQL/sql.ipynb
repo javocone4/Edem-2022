{
 "cells": [
  {
   "cell_type": "code",
   "execution_count": null,
   "metadata": {},
   "outputs": [],
   "source": [
    "\n",
    "\n",
    "SELECT NOM FROM `Base_de_datos_1.ALUMNOS`\n",
    "WHERE PAIS LIKE 'Portugal';\n",
    "\n",
    "SELECT * FROM `Base_de_datos_1.MASTER`\n",
    "WHERE NOM LIKE '%D%';\n",
    "\n",
    "SELECT NOM FROM `Base_de_datos_1.ALUMNOS`\n",
    "WHERE ID BETWEEN 37 AND 45;\n",
    "\n",
    "SELECT NOM,EMAIL FROM `Base_de_datos_1.ALUMNOS`\n",
    "ORDER BY NOM;\n",
    "\n",
    "INSERT INTO `Base_de_datos_1.ALUMNOS`\n",
    "(ID,NOM,COGNOM,PAIS,DIRECCION,EMAIL) \n",
    "VALUES (547,'Javier','Conejero','España','Plaza Honduras','javicone@gmail.com');\n",
    "\n",
    "UPDATE `Base_de_datos_1.ALUMNOS`\n",
    "SET EMAIL = 'javicone47@gmail.com'\n",
    "WHERE NOM = 'Javier';\n",
    "\n",
    "UPDATE `Base_de_datos_1.ALUMNOS`\n",
    "SET PAIS = 'Mexico' WHERE NOM = 'Javier';\n",
    "\n",
    "\n",
    "INSERT INTO `Base_de_datos_1.ALU_MASTER`\n",
    "(ID,ALU_ID,MAS_ID) \n",
    "VALUES (105,(SELECT ID FROM `Base_de_datos_1.ALUMNOS` WHERE NOM LIKE 'Illojuan'),(SELECT ID FROM `Base_de_datos_1.MASTER` WHERE NOM LIKE 'MDA2'));\n",
    "\n",
    "SELECT *\n",
    "FROM `Base_de_datos_1.ALUMNOS`, `Base_de_datos_1.ALU_MASTER`, `Base_de_datos_1.MASTER`\n",
    "WHERE `Base_de_datos_1.ALUMNOS`.ID = 81\n",
    "AND `Base_de_datos_1.ALUMNOS`.ID = `Base_de_datos_1.ALU_MASTER`.ALU_ID\n",
    "AND `Base_de_datos_1.MASTER`.ID = `Base_de_datos_1.ALU_MASTER`.MAS_ID;\n",
    "\n",
    "DELETE FROM `Base_de_datos_1.ALUMNOS`\n",
    "WHERE NOM LIKE 'Illojuan';\n",
    "\n",
    "DELETE  FROM`Base_de_datos_1.ALUMNOS`\n",
    "WHERE ID NOT IN (SELECT ALU_ID FROM `Base_de_datos_1.ALU_MASTER`);\n",
    "\n",
    "DELETE FROM `Base_de_datos_1.MASTER`\n",
    "WHERE id NOT IN (SELECT MAS_ID FROM `Base_de_datos_1.ALU_MASTER` );\n",
    "\n",
    "\n",
    "UPDATE `Base_de_datos_1.ALUMNOS` SET EMAIL = NULL \n",
    "WHERE ID IN (SELECT ALU_ID FROM `Base_de_datos_1.ALU_MASTER` WHERE MAS_ID IN\n",
    "(SELECT ID FROM `Base_de_datos_1.MASTER` WHERE NOM = 'MDA'));\n"
   ]
  }
 ],
 "metadata": {
  "kernelspec": {
   "display_name": "Python 3.9.6 64-bit",
   "language": "python",
   "name": "python3"
  },
  "language_info": {
   "name": "python",
   "version": "3.9.6"
  },
  "orig_nbformat": 4,
  "vscode": {
   "interpreter": {
    "hash": "31f2aee4e71d21fbe5cf8b01ff0e069b9275f58929596ceb00d14d90e3e16cd6"
   }
  }
 },
 "nbformat": 4,
 "nbformat_minor": 2
}
